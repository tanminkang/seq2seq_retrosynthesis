{
 "cells": [
  {
   "cell_type": "code",
   "execution_count": 2,
   "metadata": {},
   "outputs": [
    {
     "data": {
      "text/plain": [
       "'\\n@author: tanminkang\\n'"
      ]
     },
     "execution_count": 2,
     "metadata": {},
     "output_type": "execute_result"
    }
   ],
   "source": [
    "#!/usr/bin/env python3\n",
    "# -*- coding: utf-8 -*-\n",
    "\"\"\"\n",
    "@author: tanminkang\n",
    "\"\"\""
   ]
  },
  {
   "cell_type": "code",
   "execution_count": 1,
   "metadata": {},
   "outputs": [],
   "source": [
    "import re\n",
    "from rdkit import Chem"
   ]
  },
  {
   "cell_type": "code",
   "execution_count": 2,
   "metadata": {},
   "outputs": [],
   "source": [
    "# Original string\n",
    "smi = '[Cl:1][c:2]1[cH:3][c:4]([CH3:8])[n:5][n:6]1[CH3:7].[OH:14][N+:15]([O-:16])=[O:17].[S:9](=[O:10])(=[O:11])([OH:12])[OH:13]>>[Cl:1][c:2]1[c:3]([N+:15](=[O:14])[O-:16])[c:4]([CH3:8])[n:5][n:6]1[CH3:7] |f:0.1.2.3|'"
   ]
  },
  {
   "cell_type": "code",
   "execution_count": 3,
   "metadata": {},
   "outputs": [],
   "source": [
    "# Reactants and reagent separation(atom mappings)\n",
    "def separate_reactant_reagent(smi):\n",
    "    \"\"\"\n",
    "    Reactants and reagent separation (atom mappings)\n",
    "    :param smi:\n",
    "    :return:\n",
    "    \"\"\"\n",
    "    # remove useless information\n",
    "    smi = smi.split(' |f')[0]\n",
    "    reaction = smi.split('>')[0]\n",
    "    product = smi.split('>')[-1]\n",
    "    return reaction, product"
   ]
  },
  {
   "cell_type": "code",
   "execution_count": 4,
   "metadata": {},
   "outputs": [],
   "source": [
    "# Atom-mapping removal and canonicalization\n",
    "def remove_atom_mapping(smi):\n",
    "    \"\"\"\n",
    "    Atom-mapping removal and canonicalization\n",
    "    :param smi:\n",
    "    :return:\n",
    "    \"\"\"\n",
    "    # canonicalization\n",
    "    smi = re.sub(r'H[0-9]+|H|:[0-9]+', '', smi)\n",
    "    myRe = re.compile(r\"(\\[)([A-Za-z]+)(\\])\")\n",
    "    smi = myRe.sub(r'\\2', smi)\n",
    "    return smi"
   ]
  },
  {
   "cell_type": "code",
   "execution_count": 5,
   "metadata": {},
   "outputs": [],
   "source": [
    "def smi_tokenizer(smi):\n",
    "    \"\"\"\n",
    "    Tokenize a SMILES molecule or reaction\n",
    "    \"\"\"\n",
    "    pattern = \"(\\[[^\\]]+]|Br?|Cl?|N|O|S|P|F|I|b|c|n|o|s|p|\\(|\\)|\\.|=|#|-|\\+|\\\\\\\\|\\/|:|~|@|\\?|>|\\*|\\$|\\%[0-9]{2}|[0-9])\"\n",
    "    regex = re.compile(pattern)\n",
    "    tokens = [token for token in regex.findall(smi)]\n",
    "    assert smi == ''.join(tokens)\n",
    "    return ' '.join(tokens)"
   ]
  },
  {
   "cell_type": "code",
   "execution_count": 6,
   "metadata": {},
   "outputs": [],
   "source": [
    "def canonicalize(smiles): \n",
    "    \"\"\"\n",
    "    Canonicalize smiles by MolToSmiles function\n",
    "    \"\"\"\n",
    "    return Chem.MolToSmiles(Chem.MolFromSmiles(smiles)) if (smiles != '') else ''"
   ]
  },
  {
   "cell_type": "code",
   "execution_count": 9,
   "metadata": {},
   "outputs": [],
   "source": [
    "reaction, product = separate_reactant_reagent(smi)\n",
    "prediction = canonicalize(reaction)\n",
    "production = canonicalize(product)"
   ]
  }
 ],
 "metadata": {
  "kernelspec": {
   "display_name": "pytorch_env",
   "language": "python",
   "name": "pytorch_env"
  },
  "language_info": {
   "codemirror_mode": {
    "name": "ipython",
    "version": 3
   },
   "file_extension": ".py",
   "mimetype": "text/x-python",
   "name": "python",
   "nbconvert_exporter": "python",
   "pygments_lexer": "ipython3",
   "version": "3.6.8"
  }
 },
 "nbformat": 4,
 "nbformat_minor": 2
}
